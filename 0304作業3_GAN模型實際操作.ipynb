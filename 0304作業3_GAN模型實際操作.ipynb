{
  "nbformat": 4,
  "nbformat_minor": 0,
  "metadata": {
    "colab": {
      "provenance": [],
      "authorship_tag": "ABX9TyPM7dzGacM2BBpUwBjoGEi+",
      "include_colab_link": true
    },
    "kernelspec": {
      "name": "python3",
      "display_name": "Python 3"
    },
    "language_info": {
      "name": "python"
    }
  },
  "cells": [
    {
      "cell_type": "markdown",
      "metadata": {
        "id": "view-in-github",
        "colab_type": "text"
      },
      "source": [
        "<a href=\"https://colab.research.google.com/github/CHING-HSUAN-FU/1132-GENAI/blob/main/0304%E4%BD%9C%E6%A5%AD3_GAN%E6%A8%A1%E5%9E%8B%E5%AF%A6%E9%9A%9B%E6%93%8D%E4%BD%9C.ipynb\" target=\"_parent\"><img src=\"https://colab.research.google.com/assets/colab-badge.svg\" alt=\"Open In Colab\"/></a>"
      ]
    },
    {
      "cell_type": "markdown",
      "source": [
        "## 主題1：GAN模型實際操作\n",
        "# *   模型來源：\n",
        "https://github.com/junyanz/CycleGAN\n",
        "# *   模型簡介：\n",
        "CycleGAN 是由 Jun-Yan Zhu 等人在 2017 年提出的圖像轉換模型。它主要用於兩種不同風格圖像之間的轉換，如將馬變成斑馬、將照片變成畫作等。而且不需要一對一對應的圖像來進行訓練，就可以將圖片間的風格進行不同轉換。"
      ],
      "metadata": {
        "id": "fURzqQ6FGhrC"
      }
    },
    {
      "cell_type": "markdown",
      "source": [
        "# * 同主題生成幾張照片，並且附上輸入/輸出圖。\n",
        "*   說明：因為本身對於GitHub及Python是零基礎，老師也沒有在課堂中說明如何運行GAN模型，經過爬文、詢問GPT、安裝過各種軟體等方式，依然沒有辦法正常安裝並實際進行測試\n",
        "*   原本想截圖取用原CycleGAN官方說明文件中的測試結果範例，雖然並非自己實作後的輸出/輸出圖（因為沒有辦法實際操作），但至少讓作業比較完整，但幾經測試只要有放上截圖就會無法輸出/連動到GITHUB，所以此題只好空白......"
      ],
      "metadata": {
        "id": "3wFjEI6PTc8I"
      }
    },
    {
      "cell_type": "markdown",
      "source": [
        "# *   比較看看，為什麼現在較沒有人在使用GAN來生圖？\n",
        "1.   光是想要安裝並執行模型，就遭遇很大的困難，對於非工程專業來說，完全沒有辦法順利上手開始使用，不像現在的生成式AI（擴散模型Diffusion Models），可以有個方便友善的前台介面，更直觀的操作文生圖/圖生圖等技術\n",
        "2.   依照官方範例結果來看，生成的圖像品質及SIZE較小較低，但現代已更加追求高畫質及高品質的圖照\n",
        "\n",
        "\n",
        "\n"
      ],
      "metadata": {
        "id": "UjTI48KeHxub"
      }
    }
  ]
}